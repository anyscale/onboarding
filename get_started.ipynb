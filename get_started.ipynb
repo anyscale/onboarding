{
 "cells": [
  {
   "cell_type": "markdown",
   "metadata": {
    "id": "f1zlv3Y-xkv8"
   },
   "source": [
    "# Welcome to Anyscale!"
   ]
  },
  {
   "cell_type": "markdown",
   "metadata": {
    "id": "HrP1vnU6tJtg"
   },
   "source": [
    "In this Hello World example, we will walk through a few core concepts to get you started with Anyscale. \n",
    "\n",
    "Before continuing, please make sure:\n",
    "* You already have registered an Anyscale account [here](https://console.anyscale.com/).\n",
    "* Your Anyscale organization has already set up billing or has credit to use."
   ]
  },
  {
   "cell_type": "markdown",
   "metadata": {
    "id": "p30doxEgxeKE"
   },
   "source": [
    "## Install and import packages"
   ]
  },
  {
   "cell_type": "code",
   "execution_count": null,
   "metadata": {
    "colab": {
     "base_uri": "https://localhost:8080/"
    },
    "id": "n27Fq_augTNy",
    "outputId": "927d0761-e954-4316-b2c0-32a166d79c62"
   },
   "outputs": [
    {
     "name": "stdout",
     "output_type": "stream",
     "text": [
      "Collecting ray\n",
      "  Using cached ray-1.9.0-cp38-cp38-macosx_10_15_x86_64.whl (58.7 MB)\n",
      "Collecting anyscale\n",
      "  Using cached anyscale-0.4.37-cp38-cp38-macosx_10_9_x86_64.whl\n",
      "Collecting art\n",
      "  Downloading art-5.3-py2.py3-none-any.whl (574 kB)\n",
      "\u001b[K     |████████████████████████████████| 574 kB 3.2 MB/s eta 0:00:01\n",
      "\u001b[?25hRequirement already satisfied: attrs in /Users/sijie/opt/miniconda3/envs/onboarding/lib/python3.8/site-packages (from ray) (21.2.0)\n",
      "Collecting pyyaml\n",
      "  Using cached PyYAML-6.0-cp38-cp38-macosx_10_9_x86_64.whl (192 kB)\n",
      "Requirement already satisfied: jsonschema in /Users/sijie/opt/miniconda3/envs/onboarding/lib/python3.8/site-packages (from ray) (4.2.1)\n",
      "Collecting filelock\n",
      "  Using cached filelock-3.4.0-py3-none-any.whl (9.8 kB)\n",
      "Collecting click>=7.0\n",
      "  Using cached click-8.0.3-py3-none-any.whl (97 kB)\n",
      "Collecting redis>=3.5.0\n",
      "  Using cached redis-4.0.2-py3-none-any.whl (119 kB)\n",
      "Collecting msgpack<2.0.0,>=1.0.0\n",
      "  Using cached msgpack-1.0.3-cp38-cp38-macosx_10_9_x86_64.whl (73 kB)\n",
      "Collecting grpcio>=1.28.1\n",
      "  Using cached grpcio-1.42.0-cp38-cp38-macosx_10_10_x86_64.whl (4.0 MB)\n",
      "Collecting numpy>=1.16\n",
      "  Using cached numpy-1.21.4-cp38-cp38-macosx_10_9_x86_64.whl (16.9 MB)\n",
      "Collecting protobuf>=3.15.3\n",
      "  Using cached protobuf-3.19.1-cp38-cp38-macosx_10_9_x86_64.whl (1.0 MB)\n",
      "Collecting sentry-sdk\n",
      "  Using cached sentry_sdk-1.5.0-py2.py3-none-any.whl (140 kB)\n",
      "Collecting aioredis==1.3.1\n",
      "  Using cached aioredis-1.3.1-py3-none-any.whl (65 kB)\n",
      "Requirement already satisfied: packaging in /Users/sijie/opt/miniconda3/envs/onboarding/lib/python3.8/site-packages (from anyscale) (21.3)\n",
      "Collecting GitPython\n",
      "  Using cached GitPython-3.1.24-py3-none-any.whl (180 kB)\n",
      "Collecting pydantic>=1.8.1\n",
      "  Using cached pydantic-1.8.2-cp38-cp38-macosx_10_9_x86_64.whl (2.6 MB)\n",
      "Collecting requests\n",
      "  Using cached requests-2.26.0-py2.py3-none-any.whl (62 kB)\n",
      "Collecting aiohttp==3.7.4.post0\n",
      "  Using cached aiohttp-3.7.4.post0-cp38-cp38-macosx_10_14_x86_64.whl (648 kB)\n",
      "Collecting urllib3>=1.15\n",
      "  Using cached urllib3-1.26.7-py2.py3-none-any.whl (138 kB)\n",
      "Requirement already satisfied: six>=1.10 in /Users/sijie/opt/miniconda3/envs/onboarding/lib/python3.8/site-packages (from anyscale) (1.16.0)\n",
      "Collecting aiobotocore[boto3]==1.2.2\n",
      "  Using cached aiobotocore-1.2.2-py3-none-any.whl\n",
      "Collecting conda-pack\n",
      "  Using cached conda_pack-0.6.0-py2.py3-none-any.whl\n",
      "Collecting aiohttp-middlewares\n",
      "  Using cached aiohttp_middlewares-1.2.1-py3-none-any.whl (16 kB)\n",
      "Collecting botocore==1.19.52\n",
      "  Using cached botocore-1.19.52-py2.py3-none-any.whl (7.2 MB)\n",
      "Collecting pathspec==0.8.1\n",
      "  Using cached pathspec-0.8.1-py2.py3-none-any.whl (28 kB)\n",
      "Collecting boto3==1.16.52\n",
      "  Using cached boto3-1.16.52-py2.py3-none-any.whl (130 kB)\n",
      "Collecting jsonpatch\n",
      "  Using cached jsonpatch-1.32-py2.py3-none-any.whl (12 kB)\n",
      "Requirement already satisfied: jinja2 in /Users/sijie/opt/miniconda3/envs/onboarding/lib/python3.8/site-packages (from anyscale) (3.0.3)\n",
      "Requirement already satisfied: certifi in /Users/sijie/opt/miniconda3/envs/onboarding/lib/python3.8/site-packages (from anyscale) (2021.10.8)\n",
      "Collecting tabulate\n",
      "  Using cached tabulate-0.8.9-py3-none-any.whl (25 kB)\n",
      "Collecting colorama\n",
      "  Using cached colorama-0.4.4-py2.py3-none-any.whl (16 kB)\n",
      "Collecting wrapt\n",
      "  Using cached wrapt-1.13.3-cp38-cp38-macosx_10_9_x86_64.whl (33 kB)\n",
      "Collecting expiringdict\n",
      "  Using cached expiringdict-1.2.1-py3-none-any.whl\n",
      "Requirement already satisfied: python-dateutil in /Users/sijie/opt/miniconda3/envs/onboarding/lib/python3.8/site-packages (from anyscale) (2.8.2)\n",
      "Collecting aioitertools>=0.5.1\n",
      "  Using cached aioitertools-0.8.0-py3-none-any.whl (21 kB)\n",
      "Collecting chardet<5.0,>=2.0\n",
      "  Using cached chardet-4.0.0-py2.py3-none-any.whl (178 kB)\n",
      "Collecting yarl<2.0,>=1.0\n",
      "  Using cached yarl-1.7.2-cp38-cp38-macosx_10_9_x86_64.whl (121 kB)\n"
     ]
    }
   ],
   "source": [
    "!pip install ray anyscale art"
   ]
  },
  {
   "cell_type": "code",
   "execution_count": null,
   "metadata": {
    "id": "p77lbeXOg1KY"
   },
   "outputs": [],
   "source": [
    "import ray\n",
    "from datetime import datetime\n",
    "from art import *"
   ]
  },
  {
   "cell_type": "markdown",
   "metadata": {
    "id": "N09kDW5bx2fp"
   },
   "source": [
    "## Define a simple function\n",
    "`@ray.remote` tells Python that the annotated function is to be run on a Ray cluster."
   ]
  },
  {
   "cell_type": "code",
   "execution_count": null,
   "metadata": {
    "id": "XIIs2_9Dg5ev"
   },
   "outputs": [],
   "source": [
    "@ray.remote\n",
    "def send_random_art(sender):\n",
    "      return f\"Hello, here is a random art from {sender}: {art('rand')}\""
   ]
  },
  {
   "cell_type": "markdown",
   "metadata": {
    "id": "7wbCNxhhyEWp"
   },
   "source": [
    "## Run the function locally\n",
    "When you run `ray.init()` without specifying a cluster to connect to, Ray will start a local instance to execute the code. "
   ]
  },
  {
   "cell_type": "code",
   "execution_count": null,
   "metadata": {
    "colab": {
     "base_uri": "https://localhost:8080/"
    },
    "id": "dqbPauaqg7WI",
    "outputId": "823c63df-72e7-422b-c86d-faec3e605f49"
   },
   "outputs": [],
   "source": [
    "ray.init()\n",
    "print(ray.get(send_random_art.remote(\"me\")))\n",
    "ray.shutdown()"
   ]
  },
  {
   "cell_type": "markdown",
   "metadata": {
    "id": "EyiI1hOszSI9"
   },
   "source": [
    "## Run the same code on Anyscale\n"
   ]
  },
  {
   "cell_type": "markdown",
   "metadata": {
    "id": "LuX-6_ghzoMZ"
   },
   "source": [
    "### Set up credential\n",
    "To authenticate the Ray client to connect to your Anyscale account, copy the command from https://console.anyscale.com/credentials and paste it below to create a file at `~/.anyscale/credentials.json` containing your credentials.\n",
    "\n",
    "**You only need to do this once on every machine.**\n"
   ]
  },
  {
   "cell_type": "code",
   "execution_count": null,
   "metadata": {
    "colab": {
     "base_uri": "https://localhost:8080/"
    },
    "id": "f9LKEYj9hAQ3",
    "outputId": "1475e18e-ce9c-42bd-eee6-acd1ea72ee39"
   },
   "outputs": [],
   "source": [
    "%%bash\n",
    "\n",
    "# paste your command below:\n",
    "mkdir -p ~/.anyscale && echo \"{\\\"cli_token\\\":\\\"YOUR_TOKEN\\\"}\" > ~/.anyscale/credentials.json\n",
    "\n",
    "# Use the next code cell if your Jupyter Notebook is running on a Windows machine"
   ]
  },
  {
   "cell_type": "code",
   "execution_count": null,
   "metadata": {},
   "outputs": [],
   "source": [
    "# %%cmd\n",
    "\n",
    "# # paste your command below:\n",
    "# mkdir %HOMEPATH%\\.anyscale && echo {\"cli_token\":\"YOUR_TOKEN\"} > %HOMEPATH%\\.anyscale/credentials.json"
   ]
  },
  {
   "cell_type": "markdown",
   "metadata": {
    "id": "bFzbXpDUpPHE"
   },
   "source": [
    "### Specify dependency\n",
    "Here we use [runtime environment](https://docs.ray.io/en/master/dependency-management.html#runtime-environments) to specify the dependencies for executing the code:\n",
    "* Set the current directory as the working directory so all the files are considered dependencies (although in this example we will exclude every file because this script doesn't have any file dependencies); \n",
    "* `datetime` as the PIP package dependency."
   ]
  },
  {
   "cell_type": "code",
   "execution_count": null,
   "metadata": {
    "id": "AMNMmhHbg9TX"
   },
   "outputs": [],
   "source": [
    "my_env = {\n",
    "    \"working_dir\": \".\",\n",
    "    \"excludes\": [\"*\"],\n",
    "    \"pip\": [\"art\"]\n",
    "}"
   ]
  },
  {
   "cell_type": "markdown",
   "metadata": {
    "id": "_k8Q6SwFqAan"
   },
   "source": [
    "### Run remotely\n",
    "After running the code block below, it will take a few minutes for Anyscale to start the [cluster](https://docs.anyscale.com/concepts/clusters) named `hello_cluster` and set up the dependencies. You can monitor the progress of the [job](https://docs.anyscale.com/concepts/jobs) either in the cell output, or via the link to the Anyscale Console in the cell output."
   ]
  },
  {
   "cell_type": "code",
   "execution_count": null,
   "metadata": {
    "colab": {
     "base_uri": "https://localhost:8080/"
    },
    "id": "Z4dpTblGp_iY",
    "outputId": "40b37f20-385a-4970-f0b2-5a2e73141848"
   },
   "outputs": [],
   "source": [
    "ray.init(\"anyscale://hello_cluster_\" + datetime.now().strftime(\"%Y-%m-%d-%H-%M-%S\"), runtime_env=my_env)\n",
    "print(ray.get(send_random_art.remote(\"me\")))\n",
    "ray.shutdown()"
   ]
  }
 ],
 "metadata": {
  "colab": {
   "name": "get-started.ipynb",
   "provenance": []
  },
  "kernelspec": {
   "display_name": "Python 3 (ipykernel)",
   "language": "python",
   "name": "python3"
  },
  "language_info": {
   "codemirror_mode": {
    "name": "ipython",
    "version": 3
   },
   "file_extension": ".py",
   "mimetype": "text/x-python",
   "name": "python",
   "nbconvert_exporter": "python",
   "pygments_lexer": "ipython3",
   "version": "3.8.12"
  }
 },
 "nbformat": 4,
 "nbformat_minor": 1
}
