{
 "cells": [
  {
   "cell_type": "markdown",
   "metadata": {
    "id": "f1zlv3Y-xkv8"
   },
   "source": [
    "# Welcome to Anyscale!"
   ]
  },
  {
   "cell_type": "markdown",
   "metadata": {
    "id": "HrP1vnU6tJtg"
   },
   "source": [
    "In this Hello World example, we will walk through a few core concepts to get you started with Anyscale. \n",
    "\n",
    "Before continuing, please make sure:\n",
    "* You already have registered an Anyscale account [here](https://console.anyscale.com/).\n",
    "* Your Anyscale organization has already set up billing or has credit to use."
   ]
  },
  {
   "cell_type": "markdown",
   "metadata": {
    "id": "p30doxEgxeKE"
   },
   "source": [
    "## Install and import packages"
   ]
  },
  {
   "cell_type": "code",
   "execution_count": null,
   "metadata": {
    "colab": {
     "base_uri": "https://localhost:8080/"
    },
    "id": "n27Fq_augTNy",
    "outputId": "927d0761-e954-4316-b2c0-32a166d79c62"
   },
   "outputs": [],
   "source": [
    "!pip install ray anyscale art"
   ]
  },
  {
   "cell_type": "code",
   "execution_count": null,
   "metadata": {
    "id": "p77lbeXOg1KY"
   },
   "outputs": [],
   "source": [
    "import ray\n",
    "from datetime import datetime\n",
    "from art import *"
   ]
  },
  {
   "cell_type": "markdown",
   "metadata": {
    "id": "N09kDW5bx2fp"
   },
   "source": [
    "## Define a simple function\n",
    "`@ray.remote` tells Python that the annotated function is to be run on a Ray cluster."
   ]
  },
  {
   "cell_type": "code",
   "execution_count": null,
   "metadata": {
    "id": "XIIs2_9Dg5ev"
   },
   "outputs": [],
   "source": [
    "@ray.remote\n",
    "def send_random_art(sender):\n",
    "      return f\"Hello, here is a random art from {sender}: {art('rand')}\""
   ]
  },
  {
   "cell_type": "markdown",
   "metadata": {
    "id": "7wbCNxhhyEWp"
   },
   "source": [
    "## Run the function locally\n",
    "When you run `ray.init()` without specifying a cluster to connect to, Ray will start a local instance to execute the code. "
   ]
  },
  {
   "cell_type": "code",
   "execution_count": null,
   "metadata": {
    "colab": {
     "base_uri": "https://localhost:8080/"
    },
    "id": "dqbPauaqg7WI",
    "outputId": "823c63df-72e7-422b-c86d-faec3e605f49"
   },
   "outputs": [],
   "source": [
    "ray.init()\n",
    "print(ray.get(send_random_art.remote(\"me\")))\n",
    "ray.shutdown()"
   ]
  },
  {
   "cell_type": "markdown",
   "metadata": {
    "id": "EyiI1hOszSI9"
   },
   "source": [
    "## Run the same code on Anyscale\n"
   ]
  },
  {
   "cell_type": "markdown",
   "metadata": {
    "id": "LuX-6_ghzoMZ"
   },
   "source": [
    "### Set up credential\n",
    "To authenticate the Ray client to connect to your Anyscale account, copy the command from https://console.anyscale.com/credentials and paste it below to create a file at `~/.anyscale/credentials.json` containing your credentials.\n",
    "\n",
    "**You only need to do this once on every machine.**\n"
   ]
  },
  {
   "cell_type": "code",
   "execution_count": null,
   "metadata": {
    "colab": {
     "base_uri": "https://localhost:8080/"
    },
    "id": "f9LKEYj9hAQ3",
    "outputId": "1475e18e-ce9c-42bd-eee6-acd1ea72ee39"
   },
   "outputs": [],
   "source": [
    "%%bash\n",
    "\n",
    "# paste your command below:\n",
    "mkdir -p ~/.anyscale && echo \"{\\\"cli_token\\\":\\\"YOUR_TOKEN\\\"}\" > ~/.anyscale/credentials.json\n",
    "\n",
    "# Use the next code cell if your Jupyter Notebook is running on a Windows machine"
   ]
  },
  {
   "cell_type": "code",
   "execution_count": null,
   "metadata": {},
   "outputs": [],
   "source": [
    "# %%cmd\n",
    "\n",
    "# # paste your command below:\n",
    "# mkdir %HOMEPATH%\\.anyscale && echo {\"cli_token\":\"YOUR_TOKEN\"} > %HOMEPATH%\\.anyscale/credentials.json"
   ]
  },
  {
   "cell_type": "markdown",
   "metadata": {
    "id": "bFzbXpDUpPHE"
   },
   "source": [
    "### Specify dependency\n",
    "Here we use [runtime environment](https://docs.ray.io/en/master/dependency-management.html#runtime-environments) to specify the dependencies for executing the code:\n",
    "* Set the current directory as the working directory so all the files are considered dependencies (although in this example we will exclude every file because this script doesn't have any file dependencies); \n",
    "* `art` as the PIP package dependency."
   ]
  },
  {
   "cell_type": "code",
   "execution_count": null,
   "metadata": {
    "id": "AMNMmhHbg9TX"
   },
   "outputs": [],
   "source": [
    "my_env = {\n",
    "    \"working_dir\": \".\",\n",
    "    \"excludes\": [\"*\"],\n",
    "    \"pip\": [\"art\"]\n",
    "}"
   ]
  },
  {
   "cell_type": "markdown",
   "metadata": {
    "id": "_k8Q6SwFqAan"
   },
   "source": [
    "### Run remotely\n",
    "After running the code block below, it will take a few minutes for Anyscale to start the [cluster](https://docs.anyscale.com/concepts/clusters) named `hello_cluster` and set up the dependencies. You can monitor the progress of the [job](https://docs.anyscale.com/concepts/jobs) either in the cell output, or via the link to the Anyscale Console in the cell output."
   ]
  },
  {
   "cell_type": "code",
   "execution_count": null,
   "metadata": {
    "colab": {
     "base_uri": "https://localhost:8080/"
    },
    "id": "Z4dpTblGp_iY",
    "outputId": "40b37f20-385a-4970-f0b2-5a2e73141848"
   },
   "outputs": [],
   "source": [
    "ray.init(\"anyscale://hello_cluster_\" + datetime.now().strftime(\"%Y-%m-%d-%H-%M-%S\"), runtime_env=my_env)\n",
    "print(ray.get(send_random_art.remote(\"me\")))\n",
    "ray.shutdown()"
   ]
  }
 ],
 "metadata": {
  "colab": {
   "name": "get-started.ipynb",
   "provenance": []
  },
  "kernelspec": {
   "display_name": "Python 3 (ipykernel)",
   "language": "python",
   "name": "python3"
  },
  "language_info": {
   "codemirror_mode": {
    "name": "ipython",
    "version": 3
   },
   "file_extension": ".py",
   "mimetype": "text/x-python",
   "name": "python",
   "nbconvert_exporter": "python",
   "pygments_lexer": "ipython3",
   "version": "3.8.12"
  }
 },
 "nbformat": 4,
 "nbformat_minor": 1
}
