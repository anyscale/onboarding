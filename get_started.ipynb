{
  "nbformat": 4,
  "nbformat_minor": 0,
  "metadata": {
    "colab": {
      "name": "get-started.ipynb",
      "provenance": []
    },
    "kernelspec": {
      "name": "python3",
      "display_name": "Python 3"
    },
    "language_info": {
      "name": "python"
    }
  },
  "cells": [
    {
      "cell_type": "markdown",
      "metadata": {
        "id": "f1zlv3Y-xkv8"
      },
      "source": [
        "# Welcome to Anyscale!"
      ]
    },
    {
      "cell_type": "markdown",
      "metadata": {
        "id": "HrP1vnU6tJtg"
      },
      "source": [
        "In this Hello World example, we will walk through a few core concepts to get you started with Anyscale. \n",
        "\n",
        "Before continuing, please make sure:\n",
        "* You already have registered an Anyscale account [here](https://beta.anyscale.com/).\n",
        "* Your Anyscale organization has already set up billing or has credit to use."
      ]
    },
    {
      "cell_type": "markdown",
      "metadata": {
        "id": "p30doxEgxeKE"
      },
      "source": [
        "## Install and import packages"
      ]
    },
    {
      "cell_type": "code",
      "metadata": {
        "colab": {
          "base_uri": "https://localhost:8080/"
        },
        "id": "n27Fq_augTNy",
        "outputId": "927d0761-e954-4316-b2c0-32a166d79c62"
      },
      "source": [
        "!pip install ray anyscale datetime"
      ],
      "execution_count": null,
      "outputs": [
        {
          "output_type": "stream",
          "name": "stdout",
          "text": [
            "Collecting ray\n",
            "  Downloading ray-1.7.0-cp37-cp37m-manylinux2014_x86_64.whl (54.0 MB)\n",
            "\u001b[K     |████████████████████████████████| 54.0 MB 50 kB/s \n",
            "\u001b[?25hCollecting anyscale\n",
            "  Downloading anyscale-0.4.30.tar.gz (1.9 MB)\n",
            "\u001b[K     |████████████████████████████████| 1.9 MB 83.9 MB/s \n",
            "\u001b[?25hCollecting datetime\n",
            "  Downloading DateTime-4.3-py2.py3-none-any.whl (60 kB)\n",
            "\u001b[K     |████████████████████████████████| 60 kB 6.3 MB/s \n",
            "\u001b[?25hRequirement already satisfied: msgpack<2.0.0,>=1.0.0 in /usr/local/lib/python3.7/dist-packages (from ray) (1.0.2)\n",
            "Requirement already satisfied: pyyaml in /usr/local/lib/python3.7/dist-packages (from ray) (3.13)\n",
            "Collecting redis>=3.5.0\n",
            "  Downloading redis-3.5.3-py2.py3-none-any.whl (72 kB)\n",
            "\u001b[K     |████████████████████████████████| 72 kB 607 kB/s \n",
            "\u001b[?25hRequirement already satisfied: grpcio>=1.28.1 in /usr/local/lib/python3.7/dist-packages (from ray) (1.41.0)\n",
            "Requirement already satisfied: attrs in /usr/local/lib/python3.7/dist-packages (from ray) (21.2.0)\n",
            "Requirement already satisfied: click>=7.0 in /usr/local/lib/python3.7/dist-packages (from ray) (7.1.2)\n",
            "Requirement already satisfied: protobuf>=3.15.3 in /usr/local/lib/python3.7/dist-packages (from ray) (3.17.3)\n",
            "Requirement already satisfied: filelock in /usr/local/lib/python3.7/dist-packages (from ray) (3.3.0)\n",
            "Requirement already satisfied: numpy>=1.16 in /usr/local/lib/python3.7/dist-packages (from ray) (1.19.5)\n",
            "Requirement already satisfied: six>=1.5.2 in /usr/local/lib/python3.7/dist-packages (from grpcio>=1.28.1->ray) (1.15.0)\n",
            "Collecting boto3==1.16.52\n",
            "  Downloading boto3-1.16.52-py2.py3-none-any.whl (130 kB)\n",
            "\u001b[K     |████████████████████████████████| 130 kB 84.1 MB/s \n",
            "\u001b[?25hCollecting aiobotocore[boto3]==1.2.2\n",
            "  Downloading aiobotocore-1.2.2.tar.gz (48 kB)\n",
            "\u001b[K     |████████████████████████████████| 48 kB 3.8 MB/s \n",
            "\u001b[?25hCollecting botocore==1.19.52\n",
            "  Downloading botocore-1.19.52-py2.py3-none-any.whl (7.2 MB)\n",
            "\u001b[K     |████████████████████████████████| 7.2 MB 76.9 MB/s \n",
            "\u001b[?25hCollecting aiohttp==3.7.4.post0\n",
            "  Downloading aiohttp-3.7.4.post0-cp37-cp37m-manylinux2014_x86_64.whl (1.3 MB)\n",
            "\u001b[K     |████████████████████████████████| 1.3 MB 80.5 MB/s \n",
            "\u001b[?25hCollecting aiohttp_middlewares\n",
            "  Downloading aiohttp_middlewares-1.1.0-py3-none-any.whl (17 kB)\n",
            "Collecting aioredis==1.3.1\n",
            "  Downloading aioredis-1.3.1-py3-none-any.whl (65 kB)\n",
            "\u001b[K     |████████████████████████████████| 65 kB 3.6 MB/s \n",
            "\u001b[?25hRequirement already satisfied: certifi in /usr/local/lib/python3.7/dist-packages (from anyscale) (2021.5.30)\n",
            "Collecting conda-pack\n",
            "  Downloading conda-pack-0.6.0.tar.gz (43 kB)\n",
            "\u001b[K     |████████████████████████████████| 43 kB 1.4 MB/s \n",
            "\u001b[?25hCollecting colorama\n",
            "  Downloading colorama-0.4.4-py2.py3-none-any.whl (16 kB)\n",
            "Collecting expiringdict\n",
            "  Downloading expiringdict-1.2.1.tar.gz (8.1 kB)\n",
            "Collecting GitPython\n",
            "  Downloading GitPython-3.1.24-py3-none-any.whl (180 kB)\n",
            "\u001b[K     |████████████████████████████████| 180 kB 67.4 MB/s \n",
            "\u001b[?25hRequirement already satisfied: jinja2 in /usr/local/lib/python3.7/dist-packages (from anyscale) (2.11.3)\n",
            "Collecting jsonpatch\n",
            "  Downloading jsonpatch-1.32-py2.py3-none-any.whl (12 kB)\n",
            "Requirement already satisfied: jsonschema in /usr/local/lib/python3.7/dist-packages (from anyscale) (2.6.0)\n",
            "Requirement already satisfied: packaging in /usr/local/lib/python3.7/dist-packages (from anyscale) (21.0)\n",
            "Collecting pathspec==0.8.1\n",
            "  Downloading pathspec-0.8.1-py2.py3-none-any.whl (28 kB)\n",
            "Requirement already satisfied: python-dateutil in /usr/local/lib/python3.7/dist-packages (from anyscale) (2.8.2)\n",
            "Requirement already satisfied: requests in /usr/local/lib/python3.7/dist-packages (from anyscale) (2.23.0)\n",
            "Collecting sentry_sdk\n",
            "  Downloading sentry_sdk-1.4.3-py2.py3-none-any.whl (139 kB)\n",
            "\u001b[K     |████████████████████████████████| 139 kB 73.5 MB/s \n",
            "\u001b[?25hRequirement already satisfied: tabulate in /usr/local/lib/python3.7/dist-packages (from anyscale) (0.8.9)\n",
            "Requirement already satisfied: urllib3>=1.15 in /usr/local/lib/python3.7/dist-packages (from anyscale) (1.24.3)\n",
            "Requirement already satisfied: wrapt in /usr/local/lib/python3.7/dist-packages (from anyscale) (1.12.1)\n",
            "Collecting aioitertools>=0.5.1\n",
            "  Downloading aioitertools-0.8.0-py3-none-any.whl (21 kB)\n",
            "Collecting yarl<2.0,>=1.0\n",
            "  Downloading yarl-1.7.0-cp37-cp37m-manylinux_2_5_x86_64.manylinux1_x86_64.manylinux_2_12_x86_64.manylinux2010_x86_64.whl (271 kB)\n",
            "\u001b[K     |████████████████████████████████| 271 kB 66.3 MB/s \n",
            "\u001b[?25hRequirement already satisfied: typing-extensions>=3.6.5 in /usr/local/lib/python3.7/dist-packages (from aiohttp==3.7.4.post0->anyscale) (3.7.4.3)\n",
            "Collecting async-timeout<4.0,>=3.0\n",
            "  Downloading async_timeout-3.0.1-py3-none-any.whl (8.2 kB)\n",
            "Collecting multidict<7.0,>=4.5\n",
            "  Downloading multidict-5.2.0-cp37-cp37m-manylinux_2_5_x86_64.manylinux1_x86_64.manylinux_2_12_x86_64.manylinux2010_x86_64.whl (160 kB)\n",
            "\u001b[K     |████████████████████████████████| 160 kB 89.4 MB/s \n",
            "\u001b[?25hRequirement already satisfied: chardet<5.0,>=2.0 in /usr/local/lib/python3.7/dist-packages (from aiohttp==3.7.4.post0->anyscale) (3.0.4)\n",
            "Collecting hiredis\n",
            "  Downloading hiredis-2.0.0-cp37-cp37m-manylinux2010_x86_64.whl (85 kB)\n",
            "\u001b[K     |████████████████████████████████| 85 kB 4.3 MB/s \n",
            "\u001b[?25hCollecting s3transfer<0.4.0,>=0.3.0\n",
            "  Downloading s3transfer-0.3.7-py2.py3-none-any.whl (73 kB)\n",
            "\u001b[K     |████████████████████████████████| 73 kB 1.7 MB/s \n",
            "\u001b[?25hCollecting jmespath<1.0.0,>=0.7.1\n",
            "  Downloading jmespath-0.10.0-py2.py3-none-any.whl (24 kB)\n",
            "Collecting urllib3>=1.15\n",
            "  Downloading urllib3-1.26.7-py2.py3-none-any.whl (138 kB)\n",
            "\u001b[K     |████████████████████████████████| 138 kB 68.8 MB/s \n",
            "\u001b[?25hRequirement already satisfied: idna>=2.0 in /usr/local/lib/python3.7/dist-packages (from yarl<2.0,>=1.0->aiohttp==3.7.4.post0->anyscale) (2.10)\n",
            "Requirement already satisfied: pytz in /usr/local/lib/python3.7/dist-packages (from datetime) (2018.9)\n",
            "Collecting zope.interface\n",
            "  Downloading zope.interface-5.4.0-cp37-cp37m-manylinux2010_x86_64.whl (251 kB)\n",
            "\u001b[K     |████████████████████████████████| 251 kB 69.5 MB/s \n",
            "\u001b[?25hRequirement already satisfied: setuptools in /usr/local/lib/python3.7/dist-packages (from conda-pack->anyscale) (57.4.0)\n",
            "Collecting gitdb<5,>=4.0.1\n",
            "  Downloading gitdb-4.0.7-py3-none-any.whl (63 kB)\n",
            "\u001b[K     |████████████████████████████████| 63 kB 2.0 MB/s \n",
            "\u001b[?25hCollecting smmap<5,>=3.0.1\n",
            "  Downloading smmap-4.0.0-py2.py3-none-any.whl (24 kB)\n",
            "Requirement already satisfied: MarkupSafe>=0.23 in /usr/local/lib/python3.7/dist-packages (from jinja2->anyscale) (2.0.1)\n",
            "Collecting jsonpointer>=1.9\n",
            "  Downloading jsonpointer-2.1-py2.py3-none-any.whl (7.4 kB)\n",
            "Requirement already satisfied: pyparsing>=2.0.2 in /usr/local/lib/python3.7/dist-packages (from packaging->anyscale) (2.4.7)\n",
            "Collecting urllib3>=1.15\n",
            "  Downloading urllib3-1.25.11-py2.py3-none-any.whl (127 kB)\n",
            "\u001b[K     |████████████████████████████████| 127 kB 74.0 MB/s \n",
            "\u001b[?25hBuilding wheels for collected packages: anyscale, aiobotocore, conda-pack, expiringdict\n",
            "  Building wheel for anyscale (setup.py) ... \u001b[?25l\u001b[?25hdone\n",
            "  Created wheel for anyscale: filename=anyscale-0.4.30-cp37-cp37m-linux_x86_64.whl size=4091906 sha256=56212e57e6c0c6f469620ff4183db35cfa542ff3ae9a4feb63584bbd2824962f\n",
            "  Stored in directory: /root/.cache/pip/wheels/72/b0/48/c1a0652b3504dd3e626570b0128a5d877b9edf7ee4706fe4c7\n",
            "  Building wheel for aiobotocore (setup.py) ... \u001b[?25l\u001b[?25hdone\n",
            "  Created wheel for aiobotocore: filename=aiobotocore-1.2.2-py3-none-any.whl size=45750 sha256=cc49ff8c4a22bf4e5356b710f3033065ba7b6d8588c802a2c8ae7a75848c9eb6\n",
            "  Stored in directory: /root/.cache/pip/wheels/2c/46/86/839f72195fdae70cd5286a9824841c7ea9ca514f4ac2eb43eb\n",
            "  Building wheel for conda-pack (setup.py) ... \u001b[?25l\u001b[?25hdone\n",
            "  Created wheel for conda-pack: filename=conda_pack-0.6.0-py2.py3-none-any.whl size=30903 sha256=0ad27a5f68624098d08c7a84c58ceee3eda60a5001203cdd171d8a50d5c37ac8\n",
            "  Stored in directory: /root/.cache/pip/wheels/5e/56/89/483e866f95618f50910d5efb84b9b378cf30f518b1195f59b4\n",
            "  Building wheel for expiringdict (setup.py) ... \u001b[?25l\u001b[?25hdone\n",
            "  Created wheel for expiringdict: filename=expiringdict-1.2.1-py3-none-any.whl size=8439 sha256=cd692f1c6cde236cd7b4d7c3c75aede41033f0038446b037bae0d4eede5e9664\n",
            "  Stored in directory: /root/.cache/pip/wheels/74/18/a4/b1f0de11ff690a841aa97df38521dc43fe5eea37e1451f630a\n",
            "Successfully built anyscale aiobotocore conda-pack expiringdict\n",
            "Installing collected packages: urllib3, multidict, jmespath, yarl, botocore, async-timeout, smmap, s3transfer, aioitertools, aiohttp, redis, jsonpointer, hiredis, gitdb, boto3, aiobotocore, zope.interface, sentry-sdk, ray, pathspec, jsonpatch, GitPython, expiringdict, conda-pack, colorama, aioredis, aiohttp-middlewares, datetime, anyscale\n",
            "  Attempting uninstall: urllib3\n",
            "    Found existing installation: urllib3 1.24.3\n",
            "    Uninstalling urllib3-1.24.3:\n",
            "      Successfully uninstalled urllib3-1.24.3\n",
            "\u001b[31mERROR: pip's dependency resolver does not currently take into account all the packages that are installed. This behaviour is the source of the following dependency conflicts.\n",
            "datascience 0.10.6 requires folium==0.2.1, but you have folium 0.8.3 which is incompatible.\u001b[0m\n",
            "Successfully installed GitPython-3.1.24 aiobotocore-1.2.2 aiohttp-3.7.4.post0 aiohttp-middlewares-1.1.0 aioitertools-0.8.0 aioredis-1.3.1 anyscale-0.4.30 async-timeout-3.0.1 boto3-1.16.52 botocore-1.19.52 colorama-0.4.4 conda-pack-0.6.0 datetime-4.3 expiringdict-1.2.1 gitdb-4.0.7 hiredis-2.0.0 jmespath-0.10.0 jsonpatch-1.32 jsonpointer-2.1 multidict-5.2.0 pathspec-0.8.1 ray-1.7.0 redis-3.5.3 s3transfer-0.3.7 sentry-sdk-1.4.3 smmap-4.0.0 urllib3-1.25.11 yarl-1.7.0 zope.interface-5.4.0\n"
          ]
        }
      ]
    },
    {
      "cell_type": "code",
      "metadata": {
        "id": "p77lbeXOg1KY"
      },
      "source": [
        "import ray\n",
        "import anyscale\n",
        "from DateTime import DateTime"
      ],
      "execution_count": null,
      "outputs": []
    },
    {
      "cell_type": "markdown",
      "metadata": {
        "id": "N09kDW5bx2fp"
      },
      "source": [
        "## Define a simple function\n",
        "`@ray.remote` tells Python that the annotated function is to be run on a Ray cluster."
      ]
    },
    {
      "cell_type": "code",
      "metadata": {
        "id": "XIIs2_9Dg5ev"
      },
      "source": [
        "@ray.remote\n",
        "def say_hi(message):\n",
        "    e = DateTime('US/Eastern')\n",
        "    return f\"Hello, {message} from {e.timezone()}.\""
      ],
      "execution_count": null,
      "outputs": []
    },
    {
      "cell_type": "markdown",
      "metadata": {
        "id": "7wbCNxhhyEWp"
      },
      "source": [
        "## Run the function locally\n",
        "When you run `ray.init()` without specifying a cluster to connect to, Ray will start a local instance - in this case, on Colab - to execute the code. "
      ]
    },
    {
      "cell_type": "code",
      "metadata": {
        "colab": {
          "base_uri": "https://localhost:8080/"
        },
        "id": "dqbPauaqg7WI",
        "outputId": "823c63df-72e7-422b-c86d-faec3e605f49"
      },
      "source": [
        "local_context = ray.init()\n",
        "print(ray.get(say_hi.remote(\"World\")))\n",
        "ray.shutdown()"
      ],
      "execution_count": null,
      "outputs": [
        {
          "output_type": "stream",
          "name": "stdout",
          "text": [
            "Hello, World from US/Eastern.\n"
          ]
        }
      ]
    },
    {
      "cell_type": "markdown",
      "metadata": {
        "id": "EyiI1hOszSI9"
      },
      "source": [
        "## Run the same code on Anyscale\n"
      ]
    },
    {
      "cell_type": "markdown",
      "metadata": {
        "id": "LuX-6_ghzoMZ"
      },
      "source": [
        "### Set up credential\n",
        "To authenticate the Ray client to connect to your Anyscale account, copy the command from https://beta.anyscale.com/credentials and paste it below to create a file at `~/.anyscale/credentials.json` containing your credentials.\n",
        "\n",
        "**You only need to do this once on every machine.**\n"
      ]
    },
    {
      "cell_type": "code",
      "metadata": {
        "colab": {
          "base_uri": "https://localhost:8080/"
        },
        "id": "f9LKEYj9hAQ3",
        "outputId": "1475e18e-ce9c-42bd-eee6-acd1ea72ee39"
      },
      "source": [
        "%%shell\n",
        "\n",
        "# paste your command below:\n",
        "# mkdir -p ~/.anyscale && echo \"{\\\"cli_token\\\":\\\"[your token]\\\"}\" > ~/.anyscale/credentials.json"
      ],
      "execution_count": null,
      "outputs": [
        {
          "output_type": "execute_result",
          "data": {
            "text/plain": [
              ""
            ]
          },
          "metadata": {},
          "execution_count": 11
        }
      ]
    },
    {
      "cell_type": "markdown",
      "metadata": {
        "id": "bFzbXpDUpPHE"
      },
      "source": [
        "### Specify dependency\n",
        "Here we use [runtime environment](https://docs.ray.io/en/master/advanced.html?environment#runtime-environments) to specify the dependencies for executing the code:\n",
        "* Set the current directory as the working directory so all the files are considered dependencies (although in this example we will exclude every file because this script doesn't have any file dependencies); \n",
        "* `datetime` as the PIP package dependency."
      ]
    },
    {
      "cell_type": "code",
      "metadata": {
        "id": "AMNMmhHbg9TX"
      },
      "source": [
        "my_env = {\n",
        "    \"working_dir\": \".\",\n",
        "    \"excludes\": [\"*\"],\n",
        "    \"pip\": [\"datetime\"]\n",
        "}"
      ],
      "execution_count": null,
      "outputs": []
    },
    {
      "cell_type": "markdown",
      "metadata": {
        "id": "_k8Q6SwFqAan"
      },
      "source": [
        "### Run remotely\n",
        "After running the code block below, it will take a few minutes for Anyscale to start the cluster named `hello_cluster` and set up the dependencies. You can monitor the progress either in the cell output, or via the link to the Anyscale Console in the cell output."
      ]
    },
    {
      "cell_type": "code",
      "metadata": {
        "colab": {
          "base_uri": "https://localhost:8080/"
        },
        "id": "Z4dpTblGp_iY",
        "outputId": "40b37f20-385a-4970-f0b2-5a2e73141848"
      },
      "source": [
        "ray.init(\"anyscale://hello_cluster\", runtime_env=my_env)\n",
        "print(ray.get(say_hi.remote(\"World\")))\n",
        "ray.shutdown()"
      ],
      "execution_count": null,
      "outputs": [
        {
          "output_type": "stream",
          "name": "stdout",
          "text": [
            "prj_TYrZqwEwBRxjHkxszSdhctcm\n",
            "\u001b[1m\u001b[36m(anyscale +6.4s)\u001b[0m Using project (name: scratch_root, project_dir: /root/.anyscale/scratch_root, id: prj_TYrZqwEwBRxjHkxszSdhctcm).\n",
            "\u001b[1m\u001b[36m(anyscale +7.2s)\u001b[0m cluster hello_cluster exists but not running, this will restart cluster hello_cluster.\n",
            "\u001b[1m\u001b[36m(anyscale +11.2s)\u001b[0m Starting cluster hello_cluster with cluster_env=DEFAULT_APP_CONFIG_ID_1.7.0_py37:1 and cluster_compute=connect-autogenerated-config-2021-10-08T06:10:54.307625. View at https://beta.anyscale.com/projects/prj_TYrZqwEwBRxjHkxszSdhctcm/clusters/ses_q3yQAnRZSWztcc4haGpLrbET\n",
            "\u001b[1m\u001b[36m(anyscale +1m16.3s)\u001b[0m Waiting for cluster hello_cluster to start. This may take a few minutes\n"
          ]
        },
        {
          "output_type": "stream",
          "name": "stderr",
          "text": [
            "2021-10-11 17:21:31,972\tWARNING __init__.py:71 -- The 'pip' or 'conda' field was specified in the runtime env, so it may take some time to install the environment before Ray connects.\n",
            "2021-10-11 17:21:34,488\tINFO working_dir.py:414 -- gcs://_ray_pkg_8ac180528ac1da054061369c6e7a2ba7.zip doesn't exist. Create new package with . and None\n",
            "2021-10-11 17:21:34,499\tWARNING working_dir.py:86 -- File /content/sample_data/mnist_train_small.csv is very large (36523880 bytes). Consider excluding this file from the working directory.\n",
            "2021-10-11 17:21:34,586\tWARNING working_dir.py:86 -- File /content/sample_data/mnist_test.csv is very large (18289443 bytes). Consider excluding this file from the working directory.\n",
            "2021-10-11 17:21:40,063\tINFO working_dir.py:425 -- gcs://_ray_pkg_8ac180528ac1da054061369c6e7a2ba7.zip has been pushed with 56867823 bytes\n"
          ]
        },
        {
          "output_type": "stream",
          "name": "stdout",
          "text": [
            "\u001b[1m\u001b[36m(anyscale +2m48.6s)\u001b[0m Connected to hello_cluster, see: https://beta.anyscale.com/projects/prj_TYrZqwEwBRxjHkxszSdhctcm/clusters/ses_q3yQAnRZSWztcc4haGpLrbET\n",
            "\u001b[1m\u001b[36m(anyscale +2m48.6s)\u001b[0m URL for head node of cluster: https://dashboard-ses-q3yqanrzswztcc4hagplrbet.anyscale-internal-hsrczdm-0000.anyscale-test-production.com\n",
            "Hello, World from US/Eastern.\n"
          ]
        },
        {
          "output_type": "stream",
          "name": "stderr",
          "text": [
            "2021-10-11 17:22:11,409\tINFO dataclient.py:110 -- Shutting down data channel\n"
          ]
        }
      ]
    },
    {
      "cell_type": "code",
      "metadata": {
        "id": "BHgXONpSXbQW"
      },
      "source": [
        ""
      ],
      "execution_count": null,
      "outputs": []
    }
  ]
}